{
 "cells": [
  {
   "cell_type": "code",
   "execution_count": 1,
   "id": "6cee731c",
   "metadata": {},
   "outputs": [
    {
     "name": "stdout",
     "output_type": "stream",
     "text": [
      "b'method: GET\\ncontentMD5: \\ncontentType: \\ntimestamp: Sat, 13 May 2023 03:53:12 GMT\\npath: /datasets/5415/samples/7658/transactions'\n",
      "b'MySECRET'\n",
      "<hmac.HMAC object at 0x7f2405a57770>\n",
      "b'z\\xbb\\x867\\xde\\x7f\\x1b\\xed\\xd4]\\x01\\xef\\xb5mk\\x80\\xc5T#\\x1a'\n",
      "b'eruGN95/G+3UXQHvtW1rgMVUIxo=\\n'\n",
      "eruGN95/G+3UXQHvtW1rgMVUIxo=\n",
      "\n",
      "eruGN95%2FG%2B3UXQHvtW1rgMVUIxo%3D%0A\n",
      "Sat, 13 May 2023 03:53:12 GMT\n"
     ]
    }
   ],
   "source": [
    "import requests\n",
    "\n",
    "from datetime import datetime\n",
    "import pytz\n",
    "\n",
    "import hmac\n",
    "import hashlib\n",
    "\n",
    "import base64\n",
    "\n",
    "import urllib.parse\n",
    "\n",
    "#TX\n",
    "#https://pslcdatashop.web.cmu.edu/services/datasets/[id]/[?samples/id]/transactions\n",
    "\n",
    "ACCESS_KEY_ID = 'MyAPP'\n",
    "SECRET_ACCESS_KEY = 'MySECRET'\n",
    "\n",
    "DATASET_ID = 5415\n",
    "SAMPLE_ID = 7658\n",
    "\n",
    "def _hmac_sha1(input_str):\n",
    "    # Step 1 Create Hash\n",
    "    raw = input_str.encode(\"utf-8\")\n",
    "    print(raw)\n",
    "    key = SECRET_ACCESS_KEY.encode('utf-8')\n",
    "    print(key)\n",
    "    hashed = hmac.new(key, raw, hashlib.sha1)\n",
    "    print(hashed)\n",
    "    # Step 2 Create UTF-8 representation of hash\n",
    "    hashed_digest = hashed.digest()\n",
    "    print(hashed_digest)\n",
    "    encoded = base64.encodebytes(hashed_digest)\n",
    "    print(encoded)\n",
    "    clean_utf8 = encoded.decode('utf-8')\n",
    "    print(clean_utf8)\n",
    "    #clean_utf8 = clean_utf8.replace('=\\n', '') # need this step?\n",
    "    # Step 3: Encode UTF-8 representation to URL\n",
    "    clean_url = urllib.parse.urlencode({'': clean_utf8})[1:]\n",
    "    print(clean_url)\n",
    "    return clean_url\n",
    "\n",
    "now_utc = datetime.now(pytz.utc)\n",
    "http_date = now_utc.strftime('%a, %d %b %Y %H:%M:%S GMT')\n",
    "\n",
    "STRING_TO_SIGN = f\"\"\"method: GET\n",
    "contentMD5: \n",
    "contentType: \n",
    "timestamp: {http_date}\n",
    "path: /datasets/{DATASET_ID}/samples/{SAMPLE_ID}/transactions\"\"\"\n",
    "\n",
    "signature = _hmac_sha1(STRING_TO_SIGN)\n",
    "\n",
    "print(http_date)"
   ]
  },
  {
   "cell_type": "code",
   "execution_count": 2,
   "id": "d68a0e89",
   "metadata": {},
   "outputs": [],
   "source": [
    "s = requests.Session()\n",
    "s.headers.update({\n",
    "    'date': http_date,\n",
    "    'authorization': 'DATASHOP ' + ACCESS_KEY_ID + ':' + signature\n",
    "})\n",
    "\n",
    "URL = f\"https://pslcdatashop.web.cmu.edu/services/datasets/{DATASET_ID}/samples/{SAMPLE_ID}/transactions\"\n",
    "\n",
    "PARAMS = {\n",
    "    'cfs': 'all',\n",
    "    'limit': '5000',\n",
    "    'offset': '0'\n",
    "}\n",
    "\n",
    "req = requests.models.PreparedRequest()\n",
    "req.prepare_url(URL, PARAMS)\n",
    "response = s.get(req.url)\n",
    "\n",
    "#steps\n",
    "#http://pslcdatashop.web.cmu.edu/services/datasets/[id]/[?samples/id]/steps\n",
    "\n",
    "# API Docs\n",
    "# https://pslcdatashop.web.cmu.edu/api/\n",
    "\n",
    "# Analyses can also be automated with LearnSphere\n",
    "# http://learnsphere.org/help.html\n",
    "# https://www.youtube.com/embed/GmW3brm6_0c"
   ]
  },
  {
   "cell_type": "code",
   "execution_count": 3,
   "id": "b959a7a2",
   "metadata": {},
   "outputs": [
    {
     "name": "stdout",
     "output_type": "stream",
     "text": [
      "method: GET\n",
      "contentMD5: \n",
      "contentType: \n",
      "timestamp: Sat, 13 May 2023 03:53:12 GMT\n",
      "path: /datasets/5415/samples/7658/transactions\n"
     ]
    }
   ],
   "source": [
    "print(STRING_TO_SIGN)"
   ]
  },
  {
   "cell_type": "code",
   "execution_count": 4,
   "id": "cf6d9285",
   "metadata": {},
   "outputs": [
    {
     "data": {
      "text/plain": [
       "b'<?xml version=\"1.0\" encoding=\"UTF-8\"?>\\n<pslc_datashop_message result_code=\"-100\" result_message=\"Error. Authorization failed.  Check your credentials.\"/>\\n'"
      ]
     },
     "execution_count": 4,
     "metadata": {},
     "output_type": "execute_result"
    }
   ],
   "source": [
    "response.content"
   ]
  }
 ],
 "metadata": {
  "kernelspec": {
   "display_name": "Python 3 (ipykernel)",
   "language": "python",
   "name": "python3"
  },
  "language_info": {
   "codemirror_mode": {
    "name": "ipython",
    "version": 3
   },
   "file_extension": ".py",
   "mimetype": "text/x-python",
   "name": "python",
   "nbconvert_exporter": "python",
   "pygments_lexer": "ipython3",
   "version": "3.9.5"
  }
 },
 "nbformat": 4,
 "nbformat_minor": 5
}
