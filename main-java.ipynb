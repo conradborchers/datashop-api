{
 "cells": [
  {
   "cell_type": "code",
   "execution_count": null,
   "id": "572a69c9",
   "metadata": {},
   "outputs": [],
   "source": [
    "# set up java folder in root according to https://pslcdatashop.web.cmu.edu/about/webservices.html#java-client\n",
    "\n",
    "import subprocess\n",
    "import requests\n",
    "import pandas as pd\n",
    "from io import StringIO\n",
    "\n",
    "def send_command(command):\n",
    "    try:\n",
    "        # Run the command in a shell and capture the output\n",
    "        output = subprocess.check_output(command, shell=True, stderr=subprocess.STDOUT, universal_newlines=True)\n",
    "        return output\n",
    "    except subprocess.CalledProcessError as e:\n",
    "        # Handle any errors that occurred during command execution\n",
    "        return e.output\n",
    "    \n",
    "def get_transaction_baseurl(dataset_id='5415', sample_id='7658'):\n",
    "    root = 'https://pslcdatashop.web.cmu.edu/services/'\n",
    "    path = f'datasets/{dataset_id}/samples/{sample_id}/transactions'\n",
    "    return root+path\n",
    "\n",
    "def get_transaction_fullurl(dataset_id='5415', sample_id='7658', offset = '0'):\n",
    "    params = {\n",
    "        'cfs': 'all',\n",
    "        'limit': '5000',\n",
    "        'offset': str(offset)\n",
    "    }\n",
    "    url = get_transaction_baseurl(dataset_id=dataset_id, sample_id=sample_id)\n",
    "    req = requests.models.PreparedRequest()\n",
    "    req.prepare_url(url, params)\n",
    "    return req.url\n",
    "\n",
    "def parse_tab_delimited_output(output):\n",
    "    # Convert the output string into a list of lines\n",
    "    lines = output.strip().split('\\n')\n",
    "    # Convert the lines into a tab-delimited string\n",
    "    tab_delimited_str = '\\n'.join(lines)\n",
    "    # Create a Pandas DataFrame from the tab-delimited string\n",
    "    df = pd.read_csv(StringIO(tab_delimited_str), delimiter='\\t')\n",
    "    return df\n",
    "    \n",
    "def send_ds_command(url):\n",
    "    command = f'java -jar ./dist/datashop-webservices.jar \"{url}\"'\n",
    "    output = send_command(command)\n",
    "    return output\n",
    "\n",
    "def get_tx_data(dataset_id='5415', sample_id='7658', offset = '0'):\n",
    "    url = get_transaction_fullurl(dataset_id=dataset_id, sample_id=sample_id, offset=offset)\n",
    "    output = send_ds_command(url)\n",
    "    df = parse_tab_delimited_output(output)\n",
    "    return df\n",
    "\n",
    "def get_full_tx_records(dataset_id='5415', sample_id='7658'):\n",
    "    ret = 5000\n",
    "    offset = 0\n",
    "    dfs = []\n",
    "    while ret == 5000:\n",
    "        print(f'Paginating transactions with offset {offset}')\n",
    "        resp = get_tx_data(dataset_id=dataset_id, sample_id=sample_id, offset = offset)\n",
    "        dfs.append(resp)\n",
    "        ret = resp.shape[0]\n",
    "        offset += resp.shape[0]\n",
    "    ans = pd.concat(dfs)\n",
    "    return ans\n",
    "        \n",
    "    "
   ]
  },
  {
   "cell_type": "code",
   "execution_count": null,
   "id": "466489ab",
   "metadata": {},
   "outputs": [],
   "source": [
    "df = get_full_tx_records(dataset_id='5415', sample_id='7658')"
   ]
  },
  {
   "cell_type": "code",
   "execution_count": null,
   "id": "b33b329d",
   "metadata": {},
   "outputs": [],
   "source": [
    "df.to_csv('tx.csv', index=False)"
   ]
  }
 ],
 "metadata": {
  "kernelspec": {
   "display_name": "Python 3 (ipykernel)",
   "language": "python",
   "name": "python3"
  },
  "language_info": {
   "codemirror_mode": {
    "name": "ipython",
    "version": 3
   },
   "file_extension": ".py",
   "mimetype": "text/x-python",
   "name": "python",
   "nbconvert_exporter": "python",
   "pygments_lexer": "ipython3",
   "version": "3.9.5"
  }
 },
 "nbformat": 4,
 "nbformat_minor": 5
}
